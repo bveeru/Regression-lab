{
 "cells": [
  {
   "cell_type": "code",
   "execution_count": 1,
   "metadata": {
    "collapsed": true
   },
   "outputs": [],
   "source": [
    "from sklearn import datasets\n",
    "import pandas as pd\n",
    "from sklearn.preprocessing import StandardScaler\n",
    "from sklearn.cross_validation import train_test_split\n",
    "from sklearn.metrics import mean_squared_error\n",
    "from sklearn.metrics import r2_score\n",
    "from sklearn.linear_model import LinearRegression"
   ]
  },
  {
   "cell_type": "code",
   "execution_count": 2,
   "metadata": {
    "collapsed": false
   },
   "outputs": [
    {
     "name": "stdout",
     "output_type": "stream",
     "text": [
      "Boston House Prices dataset\n",
      "\n",
      "Notes\n",
      "------\n",
      "Data Set Characteristics:  \n",
      "\n",
      "    :Number of Instances: 506 \n",
      "\n",
      "    :Number of Attributes: 13 numeric/categorical predictive\n",
      "    \n",
      "    :Median Value (attribute 14) is usually the target\n",
      "\n",
      "    :Attribute Information (in order):\n",
      "        - CRIM     per capita crime rate by town\n",
      "        - ZN       proportion of residential land zoned for lots over 25,000 sq.ft.\n",
      "        - INDUS    proportion of non-retail business acres per town\n",
      "        - CHAS     Charles River dummy variable (= 1 if tract bounds river; 0 otherwise)\n",
      "        - NOX      nitric oxides concentration (parts per 10 million)\n",
      "        - RM       average number of rooms per dwelling\n",
      "        - AGE      proportion of owner-occupied units built prior to 1940\n",
      "        - DIS      weighted distances to five Boston employment centres\n",
      "        - RAD      index of accessibility to radial highways\n",
      "        - TAX      full-value property-tax rate per $10,000\n",
      "        - PTRATIO  pupil-teacher ratio by town\n",
      "        - B        1000(Bk - 0.63)^2 where Bk is the proportion of blacks by town\n",
      "        - LSTAT    % lower status of the population\n",
      "        - MEDV     Median value of owner-occupied homes in $1000's\n",
      "\n",
      "    :Missing Attribute Values: None\n",
      "\n",
      "    :Creator: Harrison, D. and Rubinfeld, D.L.\n",
      "\n",
      "This is a copy of UCI ML housing dataset.\n",
      "http://archive.ics.uci.edu/ml/datasets/Housing\n",
      "\n",
      "\n",
      "This dataset was taken from the StatLib library which is maintained at Carnegie Mellon University.\n",
      "\n",
      "The Boston house-price data of Harrison, D. and Rubinfeld, D.L. 'Hedonic\n",
      "prices and the demand for clean air', J. Environ. Economics & Management,\n",
      "vol.5, 81-102, 1978.   Used in Belsley, Kuh & Welsch, 'Regression diagnostics\n",
      "...', Wiley, 1980.   N.B. Various transformations are used in the table on\n",
      "pages 244-261 of the latter.\n",
      "\n",
      "The Boston house-price data has been used in many machine learning papers that address regression\n",
      "problems.   \n",
      "     \n",
      "**References**\n",
      "\n",
      "   - Belsley, Kuh & Welsch, 'Regression diagnostics: Identifying Influential Data and Sources of Collinearity', Wiley, 1980. 244-261.\n",
      "   - Quinlan,R. (1993). Combining Instance-Based and Model-Based Learning. In Proceedings on the Tenth International Conference of Machine Learning, 236-243, University of Massachusetts, Amherst. Morgan Kaufmann.\n",
      "   - many more! (see http://archive.ics.uci.edu/ml/datasets/Housing)\n",
      "\n"
     ]
    }
   ],
   "source": [
    "bean = datasets.load_boston()\n",
    "print bean.DESCR"
   ]
  },
  {
   "cell_type": "code",
   "execution_count": 3,
   "metadata": {
    "collapsed": true
   },
   "outputs": [],
   "source": [
    "def load_boston():\n",
    "    scaler = StandardScaler()\n",
    "    boston = datasets.load_boston()\n",
    "    X=boston.data\n",
    "    y=boston.target\n",
    "    X = scaler.fit_transform(X)\n",
    "    return train_test_split(X,y)"
   ]
  },
  {
   "cell_type": "code",
   "execution_count": 4,
   "metadata": {
    "collapsed": true
   },
   "outputs": [],
   "source": [
    "X_train, X_test, y_train, y_test = load_boston()"
   ]
  },
  {
   "cell_type": "code",
   "execution_count": 5,
   "metadata": {
    "collapsed": false
   },
   "outputs": [
    {
     "data": {
      "text/plain": [
       "(379, 13)"
      ]
     },
     "execution_count": 5,
     "metadata": {},
     "output_type": "execute_result"
    }
   ],
   "source": [
    "X_train.shape"
   ]
  },
  {
   "cell_type": "code",
   "execution_count": 6,
   "metadata": {
    "collapsed": false
   },
   "outputs": [
    {
     "data": {
      "text/plain": [
       "LinearRegression(copy_X=True, fit_intercept=True, n_jobs=1, normalize=False)"
      ]
     },
     "execution_count": 6,
     "metadata": {},
     "output_type": "execute_result"
    }
   ],
   "source": [
    "clf = LinearRegression()\n",
    "clf.fit(X_train, y_train)"
   ]
  },
  {
   "cell_type": "code",
   "execution_count": 7,
   "metadata": {
    "collapsed": false
   },
   "outputs": [
    {
     "data": {
      "text/plain": [
       "[(19.899999999999999, 17.993914939551836),\n",
       " (24.800000000000001, 24.908142890181367),\n",
       " (35.399999999999999, 30.920061898791079),\n",
       " (50.0, 40.657494376126706),\n",
       " (31.600000000000001, 32.018052847276365),\n",
       " (12.300000000000001, 13.313115844180828),\n",
       " (42.799999999999997, 28.140316040736103),\n",
       " (19.899999999999999, 19.487352906151429),\n",
       " (19.399999999999999, 26.706927697629784),\n",
       " (23.100000000000001, 12.700425691544918),\n",
       " (19.600000000000001, 22.939934419846832),\n",
       " (21.600000000000001, 25.685774183457667),\n",
       " (21.699999999999999, 21.91601747328335),\n",
       " (50.0, 42.052168405450672),\n",
       " (5.0, 7.8827988544909591),\n",
       " (31.600000000000001, 33.493427620882372),\n",
       " (50.0, 44.330697776993034),\n",
       " (44.799999999999997, 37.191824828161899),\n",
       " (22.699999999999999, 21.586863358509373),\n",
       " (30.699999999999999, 31.147107021634383),\n",
       " (26.399999999999999, 29.17728362532133),\n",
       " (23.199999999999999, 22.178118296959763),\n",
       " (14.9, 14.59045644020717),\n",
       " (13.800000000000001, 16.902122048545468),\n",
       " (21.899999999999999, 24.541764715277193),\n",
       " (27.899999999999999, 20.415900713240596),\n",
       " (45.399999999999999, 38.14817767376794),\n",
       " (28.399999999999999, 31.104985796804872),\n",
       " (16.0, 18.653859340036046),\n",
       " (28.600000000000001, 28.178770475980343),\n",
       " (20.100000000000001, 24.132140270708998),\n",
       " (22.199999999999999, 26.304551026045509),\n",
       " (19.399999999999999, 23.814173303511065),\n",
       " (26.199999999999999, 23.619551606705915),\n",
       " (23.300000000000001, 28.502828226557011),\n",
       " (12.699999999999999, 11.621664753045009),\n",
       " (24.300000000000001, 24.902459284376658),\n",
       " (19.399999999999999, 17.485122876468381),\n",
       " (23.300000000000001, 21.716369474088062),\n",
       " (19.0, 21.363054387583709),\n",
       " (48.299999999999997, 35.882752808395075),\n",
       " (14.1, 17.17130576985485),\n",
       " (17.0, 21.967937726635107),\n",
       " (15.6, 13.472907682646007),\n",
       " (7.0, 8.7688525725937527),\n",
       " (14.199999999999999, 18.039982303609627),\n",
       " (13.199999999999999, 8.8107755791401452),\n",
       " (20.300000000000001, 22.865284991112659),\n",
       " (23.5, 31.207162994014602),\n",
       " (24.800000000000001, 26.32099364956926),\n",
       " (21.600000000000001, 24.97498553171323),\n",
       " (20.0, 23.101718488373951),\n",
       " (17.800000000000001, 16.404366973186484),\n",
       " (35.200000000000003, 34.455391283715585),\n",
       " (20.399999999999999, 23.033979150298244),\n",
       " (24.800000000000001, 27.073829314837095),\n",
       " (30.800000000000001, 31.935414314390716),\n",
       " (17.399999999999999, 23.05278670769739),\n",
       " (25.0, 25.776033951678908),\n",
       " (33.399999999999999, 35.331969698039728),\n",
       " (24.100000000000001, 30.326888381812541),\n",
       " (19.300000000000001, 20.522580578992571),\n",
       " (22.600000000000001, 24.386849912879804),\n",
       " (25.300000000000001, 25.323169766999527),\n",
       " (24.5, 21.021083278650554),\n",
       " (50.0, 33.889147153100339),\n",
       " (22.199999999999999, 23.768101322498413),\n",
       " (18.300000000000001, 19.493619575345342),\n",
       " (21.5, 25.041919688107633),\n",
       " (18.899999999999999, 24.26810261954061),\n",
       " (29.100000000000001, 30.822111981466684),\n",
       " (20.300000000000001, 23.961051474797856),\n",
       " (25.0, 29.598900951799315),\n",
       " (15.300000000000001, 20.656185190419766),\n",
       " (10.800000000000001, 11.387320559986822),\n",
       " (36.0, 36.268476505530842),\n",
       " (23.100000000000001, 24.2703467546933),\n",
       " (8.4000000000000004, 4.6208073401108827),\n",
       " (10.9, 17.95522161894991),\n",
       " (20.300000000000001, 19.792084649009787),\n",
       " (18.600000000000001, 19.928809249575661),\n",
       " (46.0, 39.521105100711807),\n",
       " (36.5, 35.710412556808585),\n",
       " (20.899999999999999, 21.131347801379821),\n",
       " (16.5, 11.806421451283207),\n",
       " (11.0, 14.101643280420875),\n",
       " (19.5, 20.301360484046441),\n",
       " (21.899999999999999, 16.347914574686229),\n",
       " (30.300000000000001, 32.908737964630404),\n",
       " (25.0, 27.609736033583836),\n",
       " (19.100000000000001, 16.97154743567571),\n",
       " (20.199999999999999, 21.863207016064688),\n",
       " (20.100000000000001, 18.808662573467956),\n",
       " (23.899999999999999, 26.018151529439425),\n",
       " (28.699999999999999, 30.538055180325856),\n",
       " (25.100000000000001, 29.70557124391016),\n",
       " (14.4, 9.5069057527934326),\n",
       " (11.699999999999999, 15.206909865157417),\n",
       " (23.100000000000001, 20.662183551362169),\n",
       " (11.800000000000001, 9.4001734472441019),\n",
       " (50.0, 36.231642556747758),\n",
       " (34.899999999999999, 34.61157771383786),\n",
       " (9.5, 12.697949477058632),\n",
       " (14.800000000000001, 14.659159235868907),\n",
       " (17.5, 16.387456180161195),\n",
       " (31.199999999999999, 28.486728397314362),\n",
       " (24.300000000000001, 29.548606089917023),\n",
       " (22.600000000000001, 18.872434816184004),\n",
       " (8.8000000000000007, 5.6756736400678598),\n",
       " (19.600000000000001, 17.765387788357927),\n",
       " (22.800000000000001, 26.410221689894122),\n",
       " (18.5, 19.831128087105963),\n",
       " (18.5, 19.33673941125863),\n",
       " (17.199999999999999, 16.631916760787782),\n",
       " (21.399999999999999, 22.691030933894574),\n",
       " (24.399999999999999, 28.694166804228725),\n",
       " (20.199999999999999, 16.771734016669566),\n",
       " (20.100000000000001, 16.080692945467224),\n",
       " (13.0, 16.741528635225215),\n",
       " (14.300000000000001, 16.630864629242051),\n",
       " (23.199999999999999, 26.093635298843378),\n",
       " (19.5, 19.033559562714039),\n",
       " (23.899999999999999, 24.815437969810795),\n",
       " (14.1, 18.20557861562607),\n",
       " (21.199999999999999, 23.658255444737378),\n",
       " (19.199999999999999, 19.749858236498472),\n",
       " (22.899999999999999, 25.441502341856925)]"
      ]
     },
     "execution_count": 7,
     "metadata": {},
     "output_type": "execute_result"
    }
   ],
   "source": [
    "zip (y_test, clf.predict(X_test))"
   ]
  },
  {
   "cell_type": "code",
   "execution_count": 27,
   "metadata": {
    "collapsed": true
   },
   "outputs": [],
   "source": [
    "from sklearn.datasets import load_boston\n",
    "X, y = load_boston().data, load_boston().target\n",
    "from sklearn.cross_validation import train_test_split\n",
    "import numpy as np\n",
    "np.random.seed(100)\n",
    "X_train, X_test, y_train, y_test = train_test_split(X, y, test_size=.2)"
   ]
  },
  {
   "cell_type": "code",
   "execution_count": 9,
   "metadata": {
    "collapsed": false
   },
   "outputs": [
    {
     "data": {
      "text/plain": [
       "(506, 13)"
      ]
     },
     "execution_count": 9,
     "metadata": {},
     "output_type": "execute_result"
    }
   ],
   "source": [
    "X.shape"
   ]
  },
  {
   "cell_type": "code",
   "execution_count": 30,
   "metadata": {
    "collapsed": false
   },
   "outputs": [
    {
     "name": "stdout",
     "output_type": "stream",
     "text": [
      "R^2: 0.755446732965\n"
     ]
    }
   ],
   "source": [
    "from sklearn.linear_model import LinearRegression\n",
    "model = LinearRegression()\n",
    "model.fit(X_train, y_train)\n",
    "print \"R^2:\", model.score(X_test, y_test)"
   ]
  },
  {
   "cell_type": "code",
   "execution_count": 31,
   "metadata": {
    "collapsed": true
   },
   "outputs": [],
   "source": [
    "mse= mean_squared_error(y, model.predict(X))"
   ]
  },
  {
   "cell_type": "code",
   "execution_count": 32,
   "metadata": {
    "collapsed": false
   },
   "outputs": [
    {
     "name": "stdout",
     "output_type": "stream",
     "text": [
      "mean squared error): 22.0\n"
     ]
    }
   ],
   "source": [
    "print(\"mean squared error): {:.3}\".format(mse))"
   ]
  },
  {
   "cell_type": "code",
   "execution_count": 33,
   "metadata": {
    "collapsed": true
   },
   "outputs": [],
   "source": [
    "import numpy as np\n",
    "from sklearn import linear_model"
   ]
  },
  {
   "cell_type": "code",
   "execution_count": 34,
   "metadata": {
    "collapsed": true
   },
   "outputs": [],
   "source": [
    "from sklearn.linear_model import Lasso"
   ]
  },
  {
   "cell_type": "code",
   "execution_count": 35,
   "metadata": {
    "collapsed": false
   },
   "outputs": [
    {
     "name": "stdout",
     "output_type": "stream",
     "text": [
      "R^2: 0.739049861402\n"
     ]
    }
   ],
   "source": [
    "model=Lasso(alpha=0.1)\n",
    "model.fit(X_train, y_train)\n",
    "print \"R^2:\", model.score(X_test, y_test)"
   ]
  },
  {
   "cell_type": "code",
   "execution_count": 36,
   "metadata": {
    "collapsed": true
   },
   "outputs": [],
   "source": [
    "mse= mean_squared_error(y, model.predict(X))"
   ]
  },
  {
   "cell_type": "code",
   "execution_count": 37,
   "metadata": {
    "collapsed": false
   },
   "outputs": [
    {
     "name": "stdout",
     "output_type": "stream",
     "text": [
      "mean squared error): 23.1\n"
     ]
    }
   ],
   "source": [
    "print(\"mean squared error): {:.3}\".format(mse))"
   ]
  },
  {
   "cell_type": "code",
   "execution_count": 38,
   "metadata": {
    "collapsed": false
   },
   "outputs": [
    {
     "name": "stdout",
     "output_type": "stream",
     "text": [
      "R^2: 0.722064013374\n"
     ]
    }
   ],
   "source": [
    "model=Lasso(alpha=0.5)\n",
    "model.fit(X_train, y_train)\n",
    "print \"R^2:\", model.score(X_test, y_test)"
   ]
  },
  {
   "cell_type": "code",
   "execution_count": 40,
   "metadata": {
    "collapsed": true
   },
   "outputs": [],
   "source": [
    "mse= mean_squared_error(y, model.predict(X))"
   ]
  },
  {
   "cell_type": "code",
   "execution_count": 44,
   "metadata": {
    "collapsed": false
   },
   "outputs": [
    {
     "name": "stdout",
     "output_type": "stream",
     "text": [
      "mean squared error): 27.6\n"
     ]
    }
   ],
   "source": [
    "print(\"mean squared error): {:.3}\".format(mse))"
   ]
  },
  {
   "cell_type": "code",
   "execution_count": 42,
   "metadata": {
    "collapsed": false
   },
   "outputs": [
    {
     "name": "stdout",
     "output_type": "stream",
     "text": [
      "R^2: 0.677664390884\n"
     ]
    }
   ],
   "source": [
    "model=Lasso(alpha=1.0)\n",
    "model.fit(X_train, y_train)\n",
    "print \"R^2:\", model.score(X_test, y_test)"
   ]
  },
  {
   "cell_type": "code",
   "execution_count": 43,
   "metadata": {
    "collapsed": true
   },
   "outputs": [],
   "source": [
    "mse= mean_squared_error(y, model.predict(X))"
   ]
  },
  {
   "cell_type": "code",
   "execution_count": 45,
   "metadata": {
    "collapsed": false
   },
   "outputs": [
    {
     "name": "stdout",
     "output_type": "stream",
     "text": [
      "mean squared error): 27.6\n"
     ]
    }
   ],
   "source": [
    "print(\"mean squared error): {:.3}\".format(mse))"
   ]
  },
  {
   "cell_type": "code",
   "execution_count": null,
   "metadata": {
    "collapsed": true
   },
   "outputs": [],
   "source": []
  }
 ],
 "metadata": {
  "kernelspec": {
   "display_name": "Python 2",
   "language": "python",
   "name": "python2"
  },
  "language_info": {
   "codemirror_mode": {
    "name": "ipython",
    "version": 2
   },
   "file_extension": ".py",
   "mimetype": "text/x-python",
   "name": "python",
   "nbconvert_exporter": "python",
   "pygments_lexer": "ipython2",
   "version": "2.7.10"
  }
 },
 "nbformat": 4,
 "nbformat_minor": 0
}
